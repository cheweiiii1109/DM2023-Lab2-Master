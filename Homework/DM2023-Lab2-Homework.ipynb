{
 "cells": [
  {
   "attachments": {
    "image.png": {
     "image/png": "[encoded data removed]"
    }
   },
   "cell_type": "markdown",
   "metadata": {},
   "source": [
    "### Student Information\n",
    "Name:張哲緯\n",
    "\n",
    "Student ID:112033628\n",
    "\n",
    "GitHub ID:cheweiiii1109\n",
    "\n",
    "Kaggle name:weeeeee111\n",
    "\n",
    "Kaggle private scoreboard snapshot:![image.png](attachment:image.png)\n",
    "\n",
    "[Snapshot](img/pic0.png)"
   ]
  },
  {
   "cell_type": "markdown",
   "metadata": {},
   "source": [
    "---"
   ]
  },
  {
   "cell_type": "markdown",
   "metadata": {},
   "source": [
    "### Instructions"
   ]
  },
  {
   "cell_type": "markdown",
   "metadata": {},
   "source": [
    "1. First: __This part is worth 30% of your grade.__ Do the **take home** exercises in the DM2023-Lab2-master. You may need to copy some cells from the Lab notebook to this notebook. \n",
    "\n",
    "\n",
    "2. Second: __This part is worth 30% of your grade.__ Participate in the in-class [Kaggle Competition](https://www.kaggle.com/t/09b1d0f3f8584d06848252277cb535f2) regarding Emotion Recognition on Twitter by this link https://www.kaggle.com/t/09b1d0f3f8584d06848252277cb535f2. The scoring will be given according to your place in the Private Leaderboard ranking: \n",
    "    - **Bottom 40%**: Get 20% of the 30% available for this section.\n",
    "\n",
    "    - **Top 41% - 100%**: Get (60-x)/6 + 20 points, where x is your ranking in the leaderboard (ie. If you rank 3rd your score will be (60-3)/6 + 20 = 29.5% out of 30%)   \n",
    "    Submit your last submission __BEFORE the deadline (Dec. 27th 11:59 pm, Wednesday)_. Make sure to take a screenshot of your position at the end of the competition and store it as '''pic0.png''' under the **img** folder of this repository and rerun the cell **Student Information**.\n",
    "    \n",
    "\n",
    "3. Third: __This part is worth 30% of your grade.__ A report of your work developping the model for the competition (You can use code and comment it). This report should include what your preprocessing steps, the feature engineering steps and an explanation of your model. You can also mention different things you tried and insights you gained. \n",
    "\n",
    "\n",
    "4. Fourth: __This part is worth 10% of your grade.__ It's hard for us to follow if your code is messy :'(, so please **tidy up your notebook** and **add minimal comments where needed**.\n",
    "\n",
    "\n",
    "Upload your files to your repository then submit the link to it on the corresponding e-learn assignment.\n",
    "\n",
    "Make sure to commit and save your changes to your repository __BEFORE the deadline (Dec. 31th 11:59 pm, Sunday)__. "
   ]
  },
  {
   "cell_type": "code",
   "execution_count": 2,
   "metadata": {},
   "outputs": [],
   "source": [
    "### Begin Assignment Here"
   ]
  },
  {
   "cell_type": "markdown",
   "metadata": {},
   "source": [
    "\n",
    "I use ktrain to build & train the ML model."
   ]
  },
  {
   "cell_type": "code",
   "execution_count": null,
   "metadata": {},
   "outputs": [],
   "source": [
    "!pip install ktrain\n",
    "import ktrain\n",
    "from ktrain import text"
   ]
  },
  {
   "cell_type": "markdown",
   "metadata": {},
   "source": [
    "## Data Preprocess\n",
    "Split the training data into training data and validation data."
   ]
  },
  {
   "cell_type": "code",
   "execution_count": null,
   "metadata": {},
   "outputs": [],
   "source": [
    "import json\n",
    "import pandas as pd\n",
    "from sklearn.model_selection import train_test_split\n",
    "\n",
    "data = []\n",
    "with open('/kaggle/input/dm2023/tweets_DM.json') as f:\n",
    "    for line in f:\n",
    "        tweet = json.loads(line)['_source']['tweet']\n",
    "        data.append((tweet['tweet_id'], tweet['text']))\n",
    "\n",
    "df = pd.DataFrame.from_records(data, columns=['tweet_id', 'text'])\n",
    "\n",
    "# merge with emotion and identification\n",
    "df_emotion = pd.read_csv('/kaggle/input/dm2023/emotion.csv')\n",
    "df_identification = pd.read_csv(\n",
    "    '/kaggle/input/dm2023/data_identification.csv')\n",
    "df = df.merge(df_identification, how=\"outer\")\n",
    "df = df.merge(df_emotion, how=\"outer\")\n",
    "\n",
    "df_train = df[df['identification'] == 'train']\n",
    "df_test = df[df['identification'] == 'test']\n",
    "\n",
    "# 80% for training and others for validation\n",
    "train, validate = train_test_split(df_train, test_size=0.1)\n",
    "train.to_csv('./train.csv', index=False)\n",
    "validate.to_csv('./validate.csv', index=False)\n",
    "df_test.to_csv('./test.csv', index=False)"
   ]
  },
  {
   "cell_type": "markdown",
   "metadata": {},
   "source": [
    "## Preparae Data "
   ]
  },
  {
   "cell_type": "code",
   "execution_count": null,
   "metadata": {},
   "outputs": [],
   "source": [
    "# load data \n",
    "import pandas as pd\n",
    "df_train = pd.read_csv('/kaggle/working/train.csv', lineterminator='\\n')\n",
    "df_validate = pd.read_csv('/kaggle/working/validate.csv', lineterminator='\\n')\n",
    "df_test = pd.read_csv('/kaggle/working/test.csv', lineterminator='\\n')\n",
    "len(df_train), len(df_validate)"
   ]
  },
  {
   "cell_type": "code",
   "execution_count": null,
   "metadata": {},
   "outputs": [],
   "source": [
    "# use bert model\n",
    "model_name = 'distilbert-base-uncased'\n",
    "categories = emotions = df_train.emotion.unique()\n",
    "trans = text.Transformer(model_name, maxlen=32, class_names=categories)"
   ]
  },
  {
   "cell_type": "code",
   "execution_count": null,
   "metadata": {},
   "outputs": [],
   "source": [
    "# set up our train_data and val_data by using the transformer\n",
    "train_data = trans.preprocess_train(list(df_train['text']), list(df_train['emotion']))\n",
    "val_data = trans.preprocess_train(list(df_validate['text']), list(df_validate['emotion']))"
   ]
  },
  {
   "cell_type": "code",
   "execution_count": null,
   "metadata": {},
   "outputs": [],
   "source": [
    "model = trans.get_classifier()\n",
    "learner = ktrain.get_learner(model, train_data=train_data, val_data=val_data, batch_size=16)\n",
    "learner.fit_onecycle(1e-5, 10)"
   ]
  },
  {
   "cell_type": "markdown",
   "metadata": {},
   "source": [
    "## view the result"
   ]
  },
  {
   "cell_type": "code",
   "execution_count": null,
   "metadata": {},
   "outputs": [],
   "source": [
    "learner.validate()"
   ]
  },
  {
   "cell_type": "markdown",
   "metadata": {},
   "source": [
    "## Prediction"
   ]
  },
  {
   "cell_type": "code",
   "execution_count": null,
   "metadata": {},
   "outputs": [],
   "source": [
    "# get predictor and save the model\n",
    "predictor = ktrain.get_predictor(learner.model, preproc=trans)\n",
    "predictor.save('model')\n"
   ]
  },
  {
   "cell_type": "code",
   "execution_count": null,
   "metadata": {},
   "outputs": [],
   "source": [
    "df_test['emotion'] = df_test['text'].apply(lambda x: predictor.predict(x))"
   ]
  },
  {
   "cell_type": "code",
   "execution_count": null,
   "metadata": {},
   "outputs": [],
   "source": [
    "df_test.to_csv('./submission.csv', columns=['tweet_id', 'emotion'], header=['id','emotion'], index=False)"
   ]
  },
  {
   "cell_type": "markdown",
   "metadata": {},
   "source": [
    "## Report\n",
    "\n",
    "At the beginning, I used MLP Regressor to make predictions, but the score was only 0.46, which did not achieve the expected results. Later, let’s try BERT. Use tokenization, padding, truncation, and generate BERT’s input format for data preprocessing. Use the BERT classifier provided by ktrain for model initialization. This classifier can give full play to BERT’s capabilities. Powerful performance in natural language processing tasks. Use One-Cycle Learning Rate Policy to train the model, set the learning rate to 1e-5 and run 3 epochs. Because the amount of data is too large, 1 epoch takes about an hour to run, so the epoch I set is not too large. , to conduct experiments within a reasonable time. One-Cycle Learning Rate Policy helps improve the stability of the model, prevent overfitting, and find appropriate model weights more quickly. Compared to the first method, this model helps to increase the score."
   ]
  }
 ],
 "metadata": {
  "kernelspec": {
   "display_name": "Python 3 (ipykernel)",
   "language": "python",
   "name": "python3"
  },
  "language_info": {
   "codemirror_mode": {
    "name": "ipython",
    "version": 3
   },
   "file_extension": ".py",
   "mimetype": "text/x-python",
   "name": "python",
   "nbconvert_exporter": "python",
   "pygments_lexer": "ipython3",
   "version": "3.9.6"
  },
  "varInspector": {
   "cols": {
    "lenName": 16,
    "lenType": 16,
    "lenVar": 40
   },
   "kernels_config": {
    "python": {
     "delete_cmd_postfix": "",
     "delete_cmd_prefix": "del ",
     "library": "var_list.py",
     "varRefreshCmd": "print(var_dic_list())"
    },
    "r": {
     "delete_cmd_postfix": ") ",
     "delete_cmd_prefix": "rm(",
     "library": "var_list.r",
     "varRefreshCmd": "cat(var_dic_list()) "
    }
   },
   "types_to_exclude": [
    "module",
    "function",
    "builtin_function_or_method",
    "instance",
    "_Feature"
   ],
   "window_display": false
  }
 },
 "nbformat": 4,
 "nbformat_minor": 2
}
